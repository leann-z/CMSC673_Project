{
  "nbformat": 4,
  "nbformat_minor": 0,
  "metadata": {
    "colab": {
      "provenance": [],
      "gpuType": "T4"
    },
    "kernelspec": {
      "name": "python3",
      "display_name": "Python 3"
    },
    "language_info": {
      "name": "python"
    },
    "accelerator": "GPU"
  },
  "cells": [
    {
      "cell_type": "code",
      "execution_count": null,
      "metadata": {
        "id": "sdMlBcwGXuP7"
      },
      "outputs": [],
      "source": [
        "import pandas as pd\n",
        "import numpy as np\n",
        "from sklearn.preprocessing import StandardScaler\n",
        "from sklearn.decomposition import PCA\n",
        "from sklearn.preprocessing import MinMaxScaler\n",
        "from tensorflow.keras.models import Sequential\n",
        "from tensorflow.keras.layers import LSTM, Dense\n",
        "from sklearn.preprocessing import MinMaxScaler\n",
        "from sklearn.model_selection import train_test_split\n",
        "import matplotlib.pyplot as plt\n",
        "from imblearn.over_sampling import SMOTE\n",
        "from sklearn.ensemble import RandomForestClassifier\n",
        "from sklearn.metrics import classification_report, confusion_matrix, accuracy_score\n",
        "from tensorflow.keras.layers import Dropout\n",
        "\n",
        "\n",
        "\n"
      ]
    },
    {
      "cell_type": "markdown",
      "source": [
        "# **Exploratory Data Analysis (EDA)**"
      ],
      "metadata": {
        "id": "6bqEgRBAw9vg"
      }
    },
    {
      "cell_type": "code",
      "source": [
        "# Load the dataset\n",
        "file_path = 'cleaned_electricity_data.csv'\n",
        "df = pd.read_csv(file_path)\n",
        "print(df.head())"
      ],
      "metadata": {
        "colab": {
          "base_uri": "https://localhost:8080/"
        },
        "id": "zyNDyMJ8YN1u",
        "outputId": "ab3c7d86-25cb-4fc0-dab5-8bda7fea3726"
      },
      "execution_count": null,
      "outputs": [
        {
          "output_type": "stream",
          "name": "stdout",
          "text": [
            "                            CONS_NO  FLAG  2014/1/1  2014/1/10  2014/1/11  \\\n",
            "0  0387DD8A07E07FDA6271170F86AD9151     1       0.0       0.00       0.00   \n",
            "1  01D6177B5D4FFE0CABA9EF17DAFC2B84     1       0.0       0.00       0.00   \n",
            "2  4B75AC4F2D8434CFF62DB64D0BB43103     1       0.0       0.00       0.00   \n",
            "3  B32AC8CC6D5D805AC053557AB05F5343     1       0.0       0.00       0.00   \n",
            "4  EDFC78B07BA2908B3395C4EB2304665E     1       2.9       3.42       3.81   \n",
            "\n",
            "   2014/1/12  2014/1/13  2014/1/14  2014/1/15  2014/1/16  ...  2016/9/29  \\\n",
            "0       0.00       0.00       0.00       0.00       0.00  ...       9.96   \n",
            "1       0.00       0.00       0.00       0.00       0.00  ...       0.00   \n",
            "2       0.00       0.00       0.00       0.00       0.00  ...       0.00   \n",
            "3       0.00       0.00       0.00       0.00       0.00  ...       9.99   \n",
            "4       4.58       3.56       4.25       3.86       3.53  ...      10.37   \n",
            "\n",
            "   2016/9/3  2016/9/30  2016/9/4  2016/9/5  2016/9/6  2016/9/7  2016/9/8  \\\n",
            "0     16.92       7.60     27.22     18.05     26.47     18.75     17.84   \n",
            "1      0.00       0.00      0.00      0.00      0.00      0.00      0.00   \n",
            "2      0.00       0.00      0.00      0.00      0.00      0.00      0.00   \n",
            "3     11.78      18.59     26.80     18.57     14.59     12.82     19.37   \n",
            "4     15.32      13.51     12.23     14.68     16.35     18.14     18.41   \n",
            "\n",
            "   2016/9/9  total_consumption  \n",
            "0     14.92            8213.92  \n",
            "1      0.00               0.00  \n",
            "2      0.00            2569.64  \n",
            "3     15.92            6896.89  \n",
            "4     17.31            8497.23  \n",
            "\n",
            "[5 rows x 1037 columns]\n"
          ]
        }
      ]
    },
    {
      "cell_type": "markdown",
      "source": [
        "# **Preprocessing**"
      ],
      "metadata": {
        "id": "l8GfHvtAxGt_"
      }
    },
    {
      "cell_type": "code",
      "source": [
        "# Separate features and labels\n",
        "X = df.iloc[:, 2:-1]  # all columns except the 'FLAG' and 'CONSUMER_ID'\n",
        "y = df['FLAG']        # the anomaly flag column\n"
      ],
      "metadata": {
        "id": "bSEVP5-m5aOx"
      },
      "execution_count": null,
      "outputs": []
    },
    {
      "cell_type": "code",
      "source": [
        "# Normalize data\n",
        "scaler = MinMaxScaler()\n",
        "X_scaled = scaler.fit_transform(X)\n",
        "\n",
        "# Apply PCA\n",
        "pca = PCA(n_components=100)\n",
        "X_reduced = pca.fit_transform(X_scaled)\n",
        "\n",
        "# Verify PCA explained variance\n",
        "explained_variance = np.sum(pca.explained_variance_ratio_)\n",
        "print(\"Explained Variance by 100 components:\", explained_variance)\n",
        "if explained_variance < 0.9:\n",
        "    print(f\"Warning: PCA retains only {explained_variance:.2%} of the variance. Consider increasing n_components.\")\n",
        "\n",
        "# Generate sequences for LSTM\n",
        "time_steps = 30\n",
        "X_sequences = np.array([X_reduced[i - time_steps:i, :] for i in range(time_steps, X_reduced.shape[0])])\n",
        "y_sequences = np.array(y[time_steps:])\n",
        "\n",
        "# Validate shapes\n",
        "print(\"X_sequences shape:\", X_sequences.shape)\n",
        "print(\"y_sequences shape:\", y_sequences.shape)\n",
        "\n",
        "assert len(X) == len(y), \"X and y must have the same number of rows\"\n",
        "print(\"Data alignment verified.\")\n"
      ],
      "metadata": {
        "id": "EmnYp2N367d1",
        "colab": {
          "base_uri": "https://localhost:8080/"
        },
        "outputId": "05ff7e91-1eb5-4588-d8d9-b562733b36af"
      },
      "execution_count": null,
      "outputs": [
        {
          "output_type": "stream",
          "name": "stdout",
          "text": [
            "Explained Variance by 100 components: 0.9792467067984526\n",
            "X_sequences shape: (42337, 30, 100)\n",
            "y_sequences shape: (42337,)\n",
            "Data alignment verified.\n"
          ]
        }
      ]
    },
    {
      "cell_type": "markdown",
      "source": [
        "I normalized the data to ensure all the features are on same scale.  \n",
        "\n",
        "Applied PCA to reduce dimensionality and making the data more managable for modeling,  while retaining variance of 98%.\n",
        "\n",
        "The sequence generation is done to format the data for LSTM  input for capturing temporal patterns in the data."
      ],
      "metadata": {
        "id": "bfWoOdwGrcUe"
      }
    },
    {
      "cell_type": "markdown",
      "source": [
        "# **LSTM Training for features**"
      ],
      "metadata": {
        "id": "5i95qbCFxZHN"
      }
    },
    {
      "cell_type": "code",
      "source": [
        "# Define the LSTM model\n",
        "from tensorflow.keras.optimizers import SGD\n",
        "from tensorflow.keras.regularizers import l2\n",
        "model = Sequential()\n",
        "model.add(LSTM(units=50, activation='relu', input_shape=(X_sequences.shape[1], X_sequences.shape[2]), kernel_regularizer=l2(0.01)))\n",
        "model.add(Dropout(0.3))\n",
        "model.add(Dense(10, activation='relu', kernel_regularizer=l2(0.01)))\n",
        "model.add(Dense(1))\n",
        "\n",
        "model.compile(optimizer=SGD(learning_rate=0.001, momentum=0.9), loss='mse')\n",
        "model.fit(X_sequences, y_sequences, epochs=15, batch_size=32, validation_split=0.2)\n"
      ],
      "metadata": {
        "colab": {
          "base_uri": "https://localhost:8080/"
        },
        "id": "6iXwAE-Z7GM9",
        "outputId": "f85b38ef-5786-4292-9a84-70875b895d1e"
      },
      "execution_count": null,
      "outputs": [
        {
          "output_type": "stream",
          "name": "stderr",
          "text": [
            "/usr/local/lib/python3.10/dist-packages/keras/src/layers/rnn/rnn.py:204: UserWarning: Do not pass an `input_shape`/`input_dim` argument to a layer. When using Sequential models, prefer using an `Input(shape)` object as the first layer in the model instead.\n",
            "  super().__init__(**kwargs)\n"
          ]
        },
        {
          "output_type": "stream",
          "name": "stdout",
          "text": [
            "Epoch 1/15\n",
            "\u001b[1m1059/1059\u001b[0m \u001b[32m━━━━━━━━━━━━━━━━━━━━\u001b[0m\u001b[37m\u001b[0m \u001b[1m26s\u001b[0m 21ms/step - loss: 1.4714 - val_loss: 1.0066\n",
            "Epoch 2/15\n",
            "\u001b[1m1059/1059\u001b[0m \u001b[32m━━━━━━━━━━━━━━━━━━━━\u001b[0m\u001b[37m\u001b[0m \u001b[1m41s\u001b[0m 21ms/step - loss: 0.9920 - val_loss: 0.6657\n",
            "Epoch 3/15\n",
            "\u001b[1m1059/1059\u001b[0m \u001b[32m━━━━━━━━━━━━━━━━━━━━\u001b[0m\u001b[37m\u001b[0m \u001b[1m20s\u001b[0m 19ms/step - loss: 0.6825 - val_loss: 0.4376\n",
            "Epoch 4/15\n",
            "\u001b[1m1059/1059\u001b[0m \u001b[32m━━━━━━━━━━━━━━━━━━━━\u001b[0m\u001b[37m\u001b[0m \u001b[1m20s\u001b[0m 19ms/step - loss: 0.4790 - val_loss: 0.2912\n",
            "Epoch 5/15\n",
            "\u001b[1m1059/1059\u001b[0m \u001b[32m━━━━━━━━━━━━━━━━━━━━\u001b[0m\u001b[37m\u001b[0m \u001b[1m40s\u001b[0m 19ms/step - loss: 0.3429 - val_loss: 0.2027\n",
            "Epoch 6/15\n",
            "\u001b[1m1059/1059\u001b[0m \u001b[32m━━━━━━━━━━━━━━━━━━━━\u001b[0m\u001b[37m\u001b[0m \u001b[1m23s\u001b[0m 21ms/step - loss: 0.2465 - val_loss: 0.1307\n",
            "Epoch 7/15\n",
            "\u001b[1m1059/1059\u001b[0m \u001b[32m━━━━━━━━━━━━━━━━━━━━\u001b[0m\u001b[37m\u001b[0m \u001b[1m39s\u001b[0m 19ms/step - loss: 0.1757 - val_loss: 0.0981\n",
            "Epoch 8/15\n",
            "\u001b[1m1059/1059\u001b[0m \u001b[32m━━━━━━━━━━━━━━━━━━━━\u001b[0m\u001b[37m\u001b[0m \u001b[1m21s\u001b[0m 20ms/step - loss: 0.1345 - val_loss: 0.0647\n",
            "Epoch 9/15\n",
            "\u001b[1m1059/1059\u001b[0m \u001b[32m━━━━━━━━━━━━━━━━━━━━\u001b[0m\u001b[37m\u001b[0m \u001b[1m44s\u001b[0m 23ms/step - loss: 0.1091 - val_loss: 0.0478\n",
            "Epoch 10/15\n",
            "\u001b[1m1059/1059\u001b[0m \u001b[32m━━━━━━━━━━━━━━━━━━━━\u001b[0m\u001b[37m\u001b[0m \u001b[1m37s\u001b[0m 19ms/step - loss: 0.0932 - val_loss: 0.0582\n",
            "Epoch 11/15\n",
            "\u001b[1m1059/1059\u001b[0m \u001b[32m━━━━━━━━━━━━━━━━━━━━\u001b[0m\u001b[37m\u001b[0m \u001b[1m22s\u001b[0m 21ms/step - loss: 0.0820 - val_loss: 0.0424\n",
            "Epoch 12/15\n",
            "\u001b[1m1059/1059\u001b[0m \u001b[32m━━━━━━━━━━━━━━━━━━━━\u001b[0m\u001b[37m\u001b[0m \u001b[1m19s\u001b[0m 18ms/step - loss: 0.0767 - val_loss: 0.0258\n",
            "Epoch 13/15\n",
            "\u001b[1m1059/1059\u001b[0m \u001b[32m━━━━━━━━━━━━━━━━━━━━\u001b[0m\u001b[37m\u001b[0m \u001b[1m20s\u001b[0m 18ms/step - loss: 0.0681 - val_loss: 0.0301\n",
            "Epoch 14/15\n",
            "\u001b[1m1059/1059\u001b[0m \u001b[32m━━━━━━━━━━━━━━━━━━━━\u001b[0m\u001b[37m\u001b[0m \u001b[1m21s\u001b[0m 20ms/step - loss: 0.0645 - val_loss: 0.0292\n",
            "Epoch 15/15\n",
            "\u001b[1m1059/1059\u001b[0m \u001b[32m━━━━━━━━━━━━━━━━━━━━\u001b[0m\u001b[37m\u001b[0m \u001b[1m40s\u001b[0m 19ms/step - loss: 0.0618 - val_loss: 0.0522\n"
          ]
        },
        {
          "output_type": "execute_result",
          "data": {
            "text/plain": [
              "<keras.src.callbacks.history.History at 0x7a03476d8af0>"
            ]
          },
          "metadata": {},
          "execution_count": 24
        }
      ]
    },
    {
      "cell_type": "markdown",
      "source": [
        "# **Feature Extraction**"
      ],
      "metadata": {
        "id": "l5F4EK99xePs"
      }
    },
    {
      "cell_type": "code",
      "source": [
        "# Extract features by getting the output of the last Dense layer\n",
        "feature_extractor = Sequential(model.layers[:-2])\n",
        "X_features = feature_extractor.predict(X_sequences)\n",
        "\n",
        "\n",
        "print(\"Extracted Features Shape:\", X_features.shape)\n"
      ],
      "metadata": {
        "colab": {
          "base_uri": "https://localhost:8080/"
        },
        "id": "HlBM2p0888I2",
        "outputId": "3065363a-56e0-4b77-a7e8-5717738f92ee"
      },
      "execution_count": null,
      "outputs": [
        {
          "output_type": "stream",
          "name": "stdout",
          "text": [
            "\u001b[1m1324/1324\u001b[0m \u001b[32m━━━━━━━━━━━━━━━━━━━━\u001b[0m\u001b[37m\u001b[0m \u001b[1m10s\u001b[0m 7ms/step\n",
            "Extracted Features Shape: (42337, 50)\n"
          ]
        }
      ]
    },
    {
      "cell_type": "markdown",
      "source": [
        "The trained LSTM model is used to extract high-level temporal features (X_features) from the input sequences, which are then used for training the Random Forest Classifier for anamoly detection.\n"
      ],
      "metadata": {
        "id": "_zKIrOPH4EOf"
      }
    },
    {
      "cell_type": "markdown",
      "source": [
        "# **Training Random Forest Classifier**"
      ],
      "metadata": {
        "id": "jScstmfPxhOO"
      }
    },
    {
      "cell_type": "code",
      "source": [
        "# Stratified Train-Test Split\n",
        "X_train, X_test, y_train, y_test = train_test_split(\n",
        "    X_features, y_sequences, test_size=0.2, random_state=42, stratify=y_sequences\n",
        ")\n",
        "\n",
        "smote = SMOTE(random_state=42)\n",
        "X_train_resampled, y_train_resampled = smote.fit_resample(X_train, y_train)\n",
        "\n"
      ],
      "metadata": {
        "id": "bPAYSkf3Ivht"
      },
      "execution_count": null,
      "outputs": []
    },
    {
      "cell_type": "code",
      "source": [
        "# model: Random Forest\n",
        "rf_model = RandomForestClassifier(n_estimators=100, random_state=42,class_weight={0: 1, 1: 20} )\n",
        "rf_model.fit(X_train_resampled, y_train_resampled)\n"
      ],
      "metadata": {
        "id": "wqZSh6dGIjG5"
      },
      "execution_count": null,
      "outputs": []
    },
    {
      "cell_type": "markdown",
      "source": [
        "# **Evaluation**"
      ],
      "metadata": {
        "id": "ZDM5FNQ-xnNL"
      }
    },
    {
      "cell_type": "code",
      "source": [
        "y_pred = rf_model.predict(X_test)\n",
        "print(\"\\nConfusion Matrix (RandomForest):\")\n",
        "print(confusion_matrix(y_test, y_pred))\n",
        "\n",
        "print(\"\\nClassification Report (RandomForest):\")\n",
        "print(classification_report(y_test, y_pred))\n",
        "\n",
        "print(\"\\nAccuracy:\", accuracy_score(y_test, y_pred))"
      ],
      "metadata": {
        "colab": {
          "base_uri": "https://localhost:8080/"
        },
        "id": "Sy_faZm2O-57",
        "outputId": "09e56796-3648-4ed9-8f06-74600c3ccf3d"
      },
      "execution_count": null,
      "outputs": [
        {
          "output_type": "stream",
          "name": "stdout",
          "text": [
            "\n",
            "Confusion Matrix (RandomForest):\n",
            "[[7595  157]\n",
            " [  75  641]]\n",
            "\n",
            "Classification Report (RandomForest):\n",
            "              precision    recall  f1-score   support\n",
            "\n",
            "           0       0.99      0.98      0.98      7752\n",
            "           1       0.80      0.90      0.85       716\n",
            "\n",
            "    accuracy                           0.97      8468\n",
            "   macro avg       0.90      0.94      0.92      8468\n",
            "weighted avg       0.97      0.97      0.97      8468\n",
            "\n",
            "\n",
            "Accuracy: 0.9726027397260274\n"
          ]
        }
      ]
    },
    {
      "cell_type": "code",
      "source": [
        "import matplotlib.pyplot as plt\n",
        "import seaborn as sns\n",
        "from sklearn.metrics import confusion_matrix\n",
        "\n",
        "cm = confusion_matrix(y_test, y_pred)\n",
        "labels = ['Non-Theft (0)', 'Theft (1)']\n",
        "\n",
        "# Plot the confusion matrix\n",
        "plt.figure(figsize=(6, 4))\n",
        "sns.heatmap(cm, annot=True, fmt='d', cmap='Blues', xticklabels=labels, yticklabels=labels)\n",
        "plt.xlabel('Predicted')\n",
        "plt.ylabel('Actual')\n",
        "plt.title('Confusion Matrix')\n",
        "plt.show()\n"
      ],
      "metadata": {
        "colab": {
          "base_uri": "https://localhost:8080/",
          "height": 410
        },
        "id": "EyWVsh2HcTLj",
        "outputId": "a3d9268c-fbef-4326-ce18-ccf7ef91959b"
      },
      "execution_count": null,
      "outputs": [
        {
          "output_type": "display_data",
          "data": {
            "text/plain": [
              "<Figure size 600x400 with 2 Axes>"
            ],
            "image/png": "[encoded data removed]"
          },
          "metadata": {}
        }
      ]
    },
    {
      "cell_type": "code",
      "source": [
        "from sklearn.metrics import roc_curve, auc\n",
        "\n",
        "y_pred_proba = rf_model.predict_proba(X_test)[:, 1]\n",
        "\n",
        "# Compute ROC curve and AUC\n",
        "fpr, tpr, thresholds = roc_curve(y_test, y_pred_proba)\n",
        "roc_auc = auc(fpr, tpr)\n",
        "\n",
        "# Plot ROC curve\n",
        "plt.figure(figsize=(8, 5))\n",
        "plt.plot(fpr, tpr, color='darkorange', lw=2, label=f'ROC curve (AUC = {roc_auc:.2f})')\n",
        "plt.plot([0, 1], [0, 1], color='navy', lw=2, linestyle='--')\n",
        "plt.xlabel('False Positive Rate')\n",
        "plt.ylabel('True Positive Rate')\n",
        "plt.title('Receiver Operating Characteristic (ROC) Curve')\n",
        "plt.legend(loc='lower right')\n",
        "plt.show()\n"
      ],
      "metadata": {
        "colab": {
          "base_uri": "https://localhost:8080/",
          "height": 487
        },
        "id": "iBh_fXyyca8W",
        "outputId": "9eac2df7-f6c3-420e-ab5b-a8456e94fcf8"
      },
      "execution_count": null,
      "outputs": [
        {
          "output_type": "display_data",
          "data": {
            "text/plain": [
              "<Figure size 800x500 with 1 Axes>"
            ],
            "image/png": "[encoded data removed]"
          },
          "metadata": {}
        }
      ]
    }
  ]
}
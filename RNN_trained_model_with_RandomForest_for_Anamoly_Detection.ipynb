{
  "nbformat": 4,
  "nbformat_minor": 0,
  "metadata": {
    "colab": {
      "provenance": [],
      "gpuType": "T4"
    },
    "kernelspec": {
      "name": "python3",
      "display_name": "Python 3"
    },
    "language_info": {
      "name": "python"
    },
    "accelerator": "GPU"
  },
  "cells": [
    {
      "cell_type": "code",
      "execution_count": 22,
      "metadata": {
        "id": "sdMlBcwGXuP7"
      },
      "outputs": [],
      "source": [
        "import pandas as pd\n",
        "import numpy as np\n",
        "from sklearn.preprocessing import StandardScaler\n",
        "from sklearn.svm import OneClassSVM\n",
        "from tensorflow.keras.models import Sequential\n",
        "from tensorflow.keras.layers import LSTM, Dense\n",
        "from statsmodels.tsa.seasonal import seasonal_decompose\n",
        "from sklearn.preprocessing import MinMaxScaler\n",
        "from sklearn.metrics import mean_squared_error, mean_absolute_error, r2_score\n",
        "from sklearn.model_selection import train_test_split\n",
        "import matplotlib.pyplot as plt\n",
        "from imblearn.over_sampling import SMOTE\n",
        "from sklearn.ensemble import RandomForestClassifier\n",
        "from sklearn.metrics import classification_report, confusion_matrix, accuracy_score\n",
        "\n"
      ]
    },
    {
      "cell_type": "code",
      "source": [
        "# Load the dataset\n",
        "file_path = 'cleaned_electricity_data.csv'\n",
        "df = pd.read_csv(file_path)\n",
        "\n",
        "# Display the first few rows\n",
        "print(df.head())"
      ],
      "metadata": {
        "colab": {
          "base_uri": "https://localhost:8080/"
        },
        "id": "zyNDyMJ8YN1u",
        "outputId": "87f1cf10-4394-4960-b833-60d10bf2e907"
      },
      "execution_count": 13,
      "outputs": [
        {
          "output_type": "stream",
          "name": "stdout",
          "text": [
            "                            CONS_NO  FLAG  2014/1/1  2014/1/10  2014/1/11  \\\n",
            "0  0387DD8A07E07FDA6271170F86AD9151     1       0.0       0.00       0.00   \n",
            "1  01D6177B5D4FFE0CABA9EF17DAFC2B84     1       0.0       0.00       0.00   \n",
            "2  4B75AC4F2D8434CFF62DB64D0BB43103     1       0.0       0.00       0.00   \n",
            "3  B32AC8CC6D5D805AC053557AB05F5343     1       0.0       0.00       0.00   \n",
            "4  EDFC78B07BA2908B3395C4EB2304665E     1       2.9       3.42       3.81   \n",
            "\n",
            "   2014/1/12  2014/1/13  2014/1/14  2014/1/15  2014/1/16  ...  2016/9/29  \\\n",
            "0       0.00       0.00       0.00       0.00       0.00  ...       9.96   \n",
            "1       0.00       0.00       0.00       0.00       0.00  ...       0.00   \n",
            "2       0.00       0.00       0.00       0.00       0.00  ...       0.00   \n",
            "3       0.00       0.00       0.00       0.00       0.00  ...       9.99   \n",
            "4       4.58       3.56       4.25       3.86       3.53  ...      10.37   \n",
            "\n",
            "   2016/9/3  2016/9/30  2016/9/4  2016/9/5  2016/9/6  2016/9/7  2016/9/8  \\\n",
            "0     16.92       7.60     27.22     18.05     26.47     18.75     17.84   \n",
            "1      0.00       0.00      0.00      0.00      0.00      0.00      0.00   \n",
            "2      0.00       0.00      0.00      0.00      0.00      0.00      0.00   \n",
            "3     11.78      18.59     26.80     18.57     14.59     12.82     19.37   \n",
            "4     15.32      13.51     12.23     14.68     16.35     18.14     18.41   \n",
            "\n",
            "   2016/9/9  total_consumption  \n",
            "0     14.92            8213.92  \n",
            "1      0.00               0.00  \n",
            "2      0.00            2569.64  \n",
            "3     15.92            6896.89  \n",
            "4     17.31            8497.23  \n",
            "\n",
            "[5 rows x 1037 columns]\n"
          ]
        }
      ]
    },
    {
      "cell_type": "code",
      "source": [
        "# Separate features and labels\n",
        "X = df.iloc[:, 2:-1]  # all columns except the 'FLAG' and 'CONSUMER_ID'\n",
        "y = df['FLAG']        # the anomaly flag column\n"
      ],
      "metadata": {
        "id": "bSEVP5-m5aOx"
      },
      "execution_count": 14,
      "outputs": []
    },
    {
      "cell_type": "code",
      "source": [
        "# Normalize the data using MinMaxScaler\n",
        "scaler = MinMaxScaler()\n",
        "X_scaled = scaler.fit_transform(X)\n",
        "\n",
        "# Reshape data to match LSTM expected input shape (samples, time steps, features)\n",
        "time_steps = 30  # Define a time window of 30 days for prediction\n",
        "X_sequences = []\n",
        "\n",
        "for i in range(time_steps, X_scaled.shape[0]):\n",
        "    X_sequences.append(X_scaled[i - time_steps:i, :])\n",
        "\n",
        "X_sequences = np.array(X_sequences)\n",
        "y_sequences = y[time_steps:].values\n"
      ],
      "metadata": {
        "id": "EmnYp2N367d1"
      },
      "execution_count": 15,
      "outputs": []
    },
    {
      "cell_type": "code",
      "source": [
        "# Define the LSTM model\n",
        "model = Sequential()\n",
        "model.add(LSTM(units=50, activation='relu', input_shape=(X_sequences.shape[1], X_sequences.shape[2])))\n",
        "model.add(Dense(10, activation='relu'))\n",
        "model.add(Dense(1))\n",
        "\n",
        "model.compile(optimizer='adam', loss='mse')\n",
        "model.fit(X_sequences, y_sequences, epochs=10, batch_size=32, validation_split=0.2)\n"
      ],
      "metadata": {
        "colab": {
          "base_uri": "https://localhost:8080/"
        },
        "id": "6iXwAE-Z7GM9",
        "outputId": "5274c1d9-2823-4610-ed42-2cf50000e711"
      },
      "execution_count": 16,
      "outputs": [
        {
          "output_type": "stream",
          "name": "stderr",
          "text": [
            "/usr/local/lib/python3.10/dist-packages/keras/src/layers/rnn/rnn.py:204: UserWarning: Do not pass an `input_shape`/`input_dim` argument to a layer. When using Sequential models, prefer using an `Input(shape)` object as the first layer in the model instead.\n",
            "  super().__init__(**kwargs)\n"
          ]
        },
        {
          "output_type": "stream",
          "name": "stdout",
          "text": [
            "Epoch 1/10\n",
            "\u001b[1m184/184\u001b[0m \u001b[32m━━━━━━━━━━━━━━━━━━━━\u001b[0m\u001b[37m\u001b[0m \u001b[1m6s\u001b[0m 22ms/step - loss: 6.6928 - val_loss: 0.0448\n",
            "Epoch 2/10\n",
            "\u001b[1m184/184\u001b[0m \u001b[32m━━━━━━━━━━━━━━━━━━━━\u001b[0m\u001b[37m\u001b[0m \u001b[1m2s\u001b[0m 9ms/step - loss: 3.3213 - val_loss: 0.0919\n",
            "Epoch 3/10\n",
            "\u001b[1m184/184\u001b[0m \u001b[32m━━━━━━━━━━━━━━━━━━━━\u001b[0m\u001b[37m\u001b[0m \u001b[1m2s\u001b[0m 8ms/step - loss: 0.3113 - val_loss: 0.1577\n",
            "Epoch 4/10\n",
            "\u001b[1m184/184\u001b[0m \u001b[32m━━━━━━━━━━━━━━━━━━━━\u001b[0m\u001b[37m\u001b[0m \u001b[1m2s\u001b[0m 9ms/step - loss: 0.2209 - val_loss: 0.2496\n",
            "Epoch 5/10\n",
            "\u001b[1m184/184\u001b[0m \u001b[32m━━━━━━━━━━━━━━━━━━━━\u001b[0m\u001b[37m\u001b[0m \u001b[1m2s\u001b[0m 10ms/step - loss: 0.1730 - val_loss: 0.2605\n",
            "Epoch 6/10\n",
            "\u001b[1m184/184\u001b[0m \u001b[32m━━━━━━━━━━━━━━━━━━━━\u001b[0m\u001b[37m\u001b[0m \u001b[1m2s\u001b[0m 10ms/step - loss: 0.1409 - val_loss: 0.2031\n",
            "Epoch 7/10\n",
            "\u001b[1m184/184\u001b[0m \u001b[32m━━━━━━━━━━━━━━━━━━━━\u001b[0m\u001b[37m\u001b[0m \u001b[1m2s\u001b[0m 8ms/step - loss: 0.1064 - val_loss: 0.1328\n",
            "Epoch 8/10\n",
            "\u001b[1m184/184\u001b[0m \u001b[32m━━━━━━━━━━━━━━━━━━━━\u001b[0m\u001b[37m\u001b[0m \u001b[1m1s\u001b[0m 8ms/step - loss: 0.0753 - val_loss: 0.0830\n",
            "Epoch 9/10\n",
            "\u001b[1m184/184\u001b[0m \u001b[32m━━━━━━━━━━━━━━━━━━━━\u001b[0m\u001b[37m\u001b[0m \u001b[1m1s\u001b[0m 8ms/step - loss: 0.0510 - val_loss: 0.0560\n",
            "Epoch 10/10\n",
            "\u001b[1m184/184\u001b[0m \u001b[32m━━━━━━━━━━━━━━━━━━━━\u001b[0m\u001b[37m\u001b[0m \u001b[1m1s\u001b[0m 8ms/step - loss: 0.0468 - val_loss: 0.0747\n"
          ]
        },
        {
          "output_type": "execute_result",
          "data": {
            "text/plain": [
              "<keras.src.callbacks.history.History at 0x7f2e7bcff160>"
            ]
          },
          "metadata": {},
          "execution_count": 16
        }
      ]
    },
    {
      "cell_type": "code",
      "source": [
        "# Extract features by getting the output of the last Dense layer\n",
        "feature_extractor = Sequential(model.layers[:-1])  # Removing the output layer to get intermediate features\n",
        "X_features = model.predict(X_sequences)\n",
        "\n",
        "# Print a sample of the extracted features\n",
        "print(\"Extracted Features Shape:\", X_features.shape)\n",
        "print(\"Extracted Features (first 5 samples):\")\n",
        "print(X_features[:5])\n"
      ],
      "metadata": {
        "colab": {
          "base_uri": "https://localhost:8080/"
        },
        "id": "HlBM2p0888I2",
        "outputId": "6af70aee-459e-40b0-e624-f69bc8c9046e"
      },
      "execution_count": 20,
      "outputs": [
        {
          "output_type": "stream",
          "name": "stdout",
          "text": [
            "\u001b[1m229/229\u001b[0m \u001b[32m━━━━━━━━━━━━━━━━━━━━\u001b[0m\u001b[37m\u001b[0m \u001b[1m2s\u001b[0m 7ms/step\n",
            "Extracted Features Shape: (7322, 1)\n",
            "Extracted Features (first 5 samples):\n",
            "[[0.95609033]\n",
            " [0.9547905 ]\n",
            " [0.9442924 ]\n",
            " [0.94936883]\n",
            " [0.9546002 ]]\n"
          ]
        }
      ]
    },
    {
      "cell_type": "code",
      "source": [
        "# Stratified Train-Test Split\n",
        "X_train, X_test, y_train, y_test = train_test_split(\n",
        "    X_features, y_sequences, test_size=0.2, random_state=42, stratify=y_sequences\n",
        ")\n",
        "\n",
        "smote = SMOTE(sampling_strategy='auto', random_state=42)\n",
        "X_train_resampled, y_train_resampled = smote.fit_resample(X_train, y_train)\n",
        "\n",
        "\n",
        "# model: Random Forest\n",
        "rf_model = RandomForestClassifier(n_estimators=100, random_state=42, class_weight='balanced')\n",
        "rf_model.fit(X_train_resampled, y_train_resampled)\n",
        "y_pred = rf_model.predict(X_test)\n"
      ],
      "metadata": {
        "id": "bPAYSkf3Ivht"
      },
      "execution_count": 23,
      "outputs": []
    },
    {
      "cell_type": "code",
      "source": [
        "print(\"\\nConfusion Matrix (RandomForest):\")\n",
        "print(confusion_matrix(y_test, y_pred))\n",
        "\n",
        "print(\"\\nClassification Report (RandomForest):\")\n",
        "print(classification_report(y_test, y_pred))\n",
        "\n",
        "print(\"\\nAccuracy:\", accuracy_score(y_test, y_pred))"
      ],
      "metadata": {
        "colab": {
          "base_uri": "https://localhost:8080/"
        },
        "id": "Sy_faZm2O-57",
        "outputId": "47e4aff8-00e9-47a7-c343-ebb4d707ae0a"
      },
      "execution_count": 24,
      "outputs": [
        {
          "output_type": "stream",
          "name": "stdout",
          "text": [
            "\n",
            "Confusion Matrix (RandomForest):\n",
            "[[699  49]\n",
            " [ 58 659]]\n",
            "\n",
            "Classification Report (RandomForest):\n",
            "              precision    recall  f1-score   support\n",
            "\n",
            "           0       0.92      0.93      0.93       748\n",
            "           1       0.93      0.92      0.92       717\n",
            "\n",
            "    accuracy                           0.93      1465\n",
            "   macro avg       0.93      0.93      0.93      1465\n",
            "weighted avg       0.93      0.93      0.93      1465\n",
            "\n",
            "\n",
            "Accuracy: 0.926962457337884\n"
          ]
        }
      ]
    },
    {
      "cell_type": "code",
      "source": [
        "import matplotlib.pyplot as plt\n",
        "import numpy as np\n",
        "\n",
        "# Selecting a subset of predictions and actual labels for simplicity\n",
        "subset_size = 100\n",
        "y_test_subset = y_test[:subset_size]\n",
        "y_pred_subset = y_pred[:subset_size]\n",
        "\n",
        "\n",
        "correct_anomalies = np.where((y_test_subset == 1) & (y_pred_subset == 1))[0]  # True Positives\n",
        "missed_anomalies = np.where((y_test_subset == 1) & (y_pred_subset == 0))[0]   # False Negatives\n",
        "correct_normals = np.where((y_test_subset == 0) & (y_pred_subset == 0))[0]     # True Negatives\n",
        "false_alarms = np.where((y_test_subset == 0) & (y_pred_subset == 1))[0]        # False Positives\n",
        "\n",
        "\n",
        "plt.figure(figsize=(12, 5))\n",
        "plt.scatter(correct_anomalies, y_test_subset[correct_anomalies], color='green', label='Correct Anomaly', marker='x')\n",
        "plt.scatter(missed_anomalies, y_test_subset[missed_anomalies], color='red', label='Missed Anomaly', marker='o')\n",
        "plt.scatter(correct_normals, y_test_subset[correct_normals], color='blue', label='Correct Normal', marker='x')\n",
        "plt.scatter(false_alarms, y_test_subset[false_alarms], color='orange', label='False Alarm', marker='o')\n",
        "\n",
        "\n",
        "plt.xlabel('Sample Index')\n",
        "plt.ylabel('Anomaly (0 = No, 1 = Yes)')\n",
        "plt.title('Anomaly Detection: Correct and Misclassified Predictions')\n",
        "plt.legend()\n",
        "plt.show()\n"
      ],
      "metadata": {
        "colab": {
          "base_uri": "https://localhost:8080/",
          "height": 487
        },
        "id": "ibWSoJJxJA02",
        "outputId": "3f2aadbb-67c6-4548-9f70-17677d0aa52a"
      },
      "execution_count": 27,
      "outputs": [
        {
          "output_type": "display_data",
          "data": {
            "text/plain": [
              "<Figure size 1200x500 with 1 Axes>"
            ],
            "image/png": "[encoded data removed]"
          },
          "metadata": {}
        }
      ]
    }
  ]
}